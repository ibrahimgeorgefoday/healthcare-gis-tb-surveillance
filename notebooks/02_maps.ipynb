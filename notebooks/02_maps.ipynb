{
  "nbformat": 4,
  "nbformat_minor": 5,
  "metadata": {
    "kernelspec": { "display_name": "Python 3", "language": "python", "name": "python3" },
    "language_info": { "name": "python" }
  },
  "cells": [
    {
      "cell_type": "code",
      "metadata": {},
      "execution_count": null,
      "outputs": [],
      "source": [
        "from pathlib import Path\n",
        "import pandas as pd\n",
        "import folium\n",
        "\n",
        "# In nbconvert, cwd == notebook folder. Go up to repo root safely.\n",
        "NB_DIR = Path.cwd()              # e.g., <repo>/notebooks\n",
        "ROOT = NB_DIR.parent             # e.g., <repo>\n",
        "SAMPLE = ROOT / 'data' / 'sample'\n",
        "REPORTS = ROOT / 'reports'\n",
        "REPORTS.mkdir(parents=True, exist_ok=True)\n",
        "\n",
        "# Load (or create) sample CSV\n",
        "csv_fp = SAMPLE / 'tb_cases_sample.csv'\n",
        "SAMPLE.mkdir(parents=True, exist_ok=True)\n",
        "if not csv_fp.exists():\n",
        "    pd.DataFrame({\n",
        "        'admin_name': ['Western Urban','Western Rural','Bombali','Bo','Kenema'],\n",
        "        'cases': [120,65,40,70,55],\n",
        "        'population': [1000000,500000,350000,600000,500000]\n",
        "    }).to_csv(csv_fp, index=False)\n",
        "df = pd.read_csv(csv_fp)\n",
        "df['incidence_100k'] = (df['cases'] / df['population']) * 100000\n",
        "df[['admin_name','incidence_100k']].sort_values('incidence_100k', ascending=False).head()\n"
      ]
    },
    {
      "cell_type": "code",
      "metadata": {},
      "execution_count": null,
      "outputs": [],
      "source": [
        "import json\n",
        "\n",
        "# Minimal inline GeoJSON (5 demo polygons keyed by admin_name)\n",
        "geo = {\n",
        "  \"type\": \"FeatureCollection\",\n",
        "  \"features\": [\n",
        "    { \"type\": \"Feature\", \"properties\": { \"admin_name\": \"Western Urban\" }, \"geometry\": { \"type\": \"Polygon\", \"coordinates\": [[[-13.25,8.43],[-13.15,8.43],[-13.15,8.53],[-13.25,8.53],[-13.25,8.43]]] } },\n",
        "    { \"type\": \"Feature\", \"properties\": { \"admin_name\": \"Western Rural\" }, \"geometry\": { \"type\": \"Polygon\", \"coordinates\": [[[-13.35,8.33],[-13.25,8.33],[-13.25,8.53],[-13.35,8.53],[-13.35,8.33]]] } },\n",
        "    { \"type\": \"Feature\", \"properties\": { \"admin_name\": \"Bombali\" }, \"geometry\": { \"type\": \"Polygon\", \"coordinates\": [[[-12.75,9.0],[-12.55,9.0],[-12.55,9.2],[-12.75,9.2],[-12.75,9.0]]] } },\n",
        "    { \"type\": \"Feature\", \"properties\": { \"admin_name\": \"Bo\" }, \"geometry\": { \"type\": \"Polygon\", \"coordinates\": [[[-11.9,8.6],[-11.7,8.6],[-11.7,8.8],[-11.9,8.8],[-11.9,8.6]]] } },\n",
        "    { \"type\": \"Feature\", \"properties\": { \"admin_name\": \"Kenema\" }, \"geometry\": { \"type\": \"Polygon\", \"coordinates\": [[[-11.4,8.4],[-11.2,8.4],[-11.2,8.7],[-11.4,8.7],[-11.4,8.4]]] } }\n",
        "  ]\n",
        "}\n",
        "center = [8.6, -12.7]\n",
        "m = folium.Map(location=center, zoom_start=7, tiles='cartodbpositron')\n",
        "\n",
        "folium.Choropleth(\n",
        "    geo_data=json.dumps(geo),\n",
        "    data=df,\n",
        "    columns=['admin_name','incidence_100k'],\n",
        "    key_on='feature.properties.admin_name',\n",
        "    fill_opacity=0.85, line_opacity=0.6, nan_fill_opacity=0.2,\n",
        "    legend_name='TB incidence per 100k'\n",
        ").add_to(m)\n",
        "\n",
        "out = REPORTS / 'tb_map.html'\n",
        "m.save(out.as_posix())\n",
        "print('Wrote:', out)\n"
      ]
    },
    {
      "cell_type": "code",
      "metadata": {},
      "execution_count": null,
      "outputs": [],
      "source": [
        "assert (REPORTS / 'tb_map.html').exists(), 'Map was not created'\n",
        "print('All good ✅')\n"
      ]
    }
  ]
}
