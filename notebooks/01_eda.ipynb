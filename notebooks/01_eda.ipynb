{
  "cells":[{"cell_type":"code","metadata":{},"source":["import pandas as pd\nprint('CI OK – pandas', pd.__version__)"],"outputs":[],"execution_count":null}],
  "metadata":{"kernelspec":{"display_name":"Python 3","language":"python","name":"python3"},"language_info":{"name":"python"}},
  "nbformat":4,"nbformat_minor":5
}
